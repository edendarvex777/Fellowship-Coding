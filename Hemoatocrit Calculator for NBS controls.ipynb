{
 "cells": [
  {
   "cell_type": "code",
   "execution_count": 45,
   "metadata": {},
   "outputs": [],
   "source": [
    "# Going to attempt to create codign for calculating hemocrit for biotinidase controls\n",
    "# To dothis I iwll need ot make a functions that calculate the amount of plasma to remove fo rthe desired hemocrit\n",
    "\n",
    "def BTD_Control_Calc(hemocrit=0.55):\n",
    "    #what do we need ot calculate the plasmae ot remove\n",
    " \n",
    "    hemocrit_current=float(input(\"What is the CURRENT hemocrit of the sample? Pleae input it as a percent. \"))/100\n",
    "    desired_hemocrit=float(input(\"What is the DESIRED hemocrit of the sample? Pleae input it as a percent. \"))/100\n",
    "    total_blood_volume=float(input(\"What is the total blood volume? Please input it in mL \"))\n",
    "    total_plasma_volume= (1-hemocrit_current)*total_blood_volume\n",
    "    \n",
    "    #Steps to the calculation:\n",
    "    # Equation looks like this \n",
    "    # (1-DH)*(TBV - x)=TBV-x\n",
    "    # Calculate through step wise algebra (break up steps)\n",
    "    \n",
    "    y=(1-desired_hemocrit)\n",
    "    y2=y*total_blood_volume\n",
    "    y3=-y+1\n",
    "    y4=total_plasma_volume-y2\n",
    "    plas_remove=y4/y3\n",
    "    \n",
    "    # round outputs to 2 decimla places\n",
    "    tpvclip=round(total_plasma_volume,2)\n",
    "    prclip=round(plas_remove,2)\n",
    "    \n",
    "    # Convert outputs into string for easy print out and concatination\n",
    "    tpv=str(tpvclip)\n",
    "    pr=str(prclip)\n",
    "    \n",
    "    #print the answers in ml to use for study\n",
    "    print(\"The total plasma volume of the blood is \"+ tpv +\"ml\")\n",
    "    print(\"The volume of plasma that needs to be removed is \"+pr+\"ml\")"
   ]
  },
  {
   "cell_type": "code",
   "execution_count": 46,
   "metadata": {},
   "outputs": [
    {
     "name": "stdout",
     "output_type": "stream",
     "text": [
      "What is the CURRENT hemocrit of the sample? Pleae input it as a percent. 47.3\n",
      "What is the DESIRED hemocrit of the sample? Pleae input it as a percent. 55\n",
      "What is the total blood volume? Please input it in mL 450\n",
      "The total plasma volume of the blood is 237.15ml\n",
      "The volume of plasma that needs to be removed is 63.0ml\n"
     ]
    }
   ],
   "source": [
    "BTD_Control_Calc()"
   ]
  },
  {
   "cell_type": "code",
   "execution_count": null,
   "metadata": {},
   "outputs": [],
   "source": [
    "#Goal of this function is to store the data and output a table.  (incomplete)\n",
    "\n",
    "def BTD_Control_Calc(hemocrit=0.55):\n",
    "    #what do we need ot calculate the plasmae ot remove\n",
    " \n",
    "    hemocrit_current=float(input(\"What is the CURRENT hemocrit of the sample? Pleae input it as a percent. \"))/100\n",
    "    desired_hemocrit=float(input(\"What is the DESIRED hemocrit of the sample? Pleae input it as a percent. \"))/100\n",
    "    total_blood_volume=float(input(\"What is the total blood volume? Please input it in mL \"))\n",
    "    total_plasma_volume= (1-hemocrit_current)*total_blood_volume\n",
    "    \n",
    "    #Steps to the calculation:\n",
    "    # Equation looks like this \n",
    "    # (1-DH)*(TBV - x)=TBV-x\n",
    "    # Calculate through step wise algebra (break up steps)\n",
    "    \n",
    "    y=(1-desired_hemocrit)\n",
    "    y2=y*total_blood_volume\n",
    "    y3=-y+1\n",
    "    y4=total_plasma_volume-y2\n",
    "    plas_remove=y4/y3\n",
    "    \n",
    "    # round outputs to 2 decimla places\n",
    "    tpvclip=round(total_plasma_volume,2)\n",
    "    prclip=round(plas_remove,2)\n",
    "    \n",
    "    # Convert outputs into string for easy print out and concatination\n",
    "    tpv=str(tpvclip)\n",
    "    pr=str(prclip)\n",
    "    \n",
    "    #print the answers in ml to use for study\n",
    "    print(\"The total plasma volume of the blood is \"+ tpv +\"ml\")\n",
    "    print(\"The volume of plasma that needs to be removed is \"+pr+\"ml\")"
   ]
  }
 ],
 "metadata": {
  "kernelspec": {
   "display_name": "Python 3",
   "language": "python",
   "name": "python3"
  },
  "language_info": {
   "codemirror_mode": {
    "name": "ipython",
    "version": 3
   },
   "file_extension": ".py",
   "mimetype": "text/x-python",
   "name": "python",
   "nbconvert_exporter": "python",
   "pygments_lexer": "ipython3",
   "version": "3.8.3"
  }
 },
 "nbformat": 4,
 "nbformat_minor": 4
}
