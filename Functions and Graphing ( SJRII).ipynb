{
 "cells": [
  {
   "cell_type": "code",
   "execution_count": 1,
   "metadata": {},
   "outputs": [],
   "source": [
    "# This is a jupyter notbeook covering how to create a function and graph the data collected from that function. \n",
    "#1. Varibale assignment\n",
    "#2. Create a function to collect data for graphing.\n",
    "    #a. The function should collect data\n",
    "    #b. It should store the data\n",
    "#3.Graph the Data"
   ]
  },
  {
   "cell_type": "code",
   "execution_count": 2,
   "metadata": {},
   "outputs": [
    {
     "data": {
      "text/plain": [
       "3000000"
      ]
     },
     "execution_count": 2,
     "metadata": {},
     "output_type": "execute_result"
    }
   ],
   "source": [
    "# Variable assingment\n",
    "# Simple coding method to assign different coding objects to a \"name\" that can be called multiple times (saves time).\n",
    "#Example:\n",
    "#You can write the number out each time. \n",
    "30000000\n",
    "#You can assign it to a variable \n",
    "num1=3000000\n",
    "# When you call the variable the code replaces it with the stored object/value.\n",
    "num1"
   ]
  },
  {
   "cell_type": "code",
   "execution_count": 3,
   "metadata": {},
   "outputs": [],
   "source": [
    "#Quick reminder on important data types\n",
    "strings = \"ordered sequence of characters that use quotations\"\n",
    "integers = 2\n",
    "floats= 3.141592"
   ]
  },
  {
   "cell_type": "code",
   "execution_count": 4,
   "metadata": {},
   "outputs": [],
   "source": [
    "#You can think of functions as a larger scale version of variable assignment. \n",
    "# Instead of storing a single object you are storing lines of code that can be run by calling the function name. \n",
    "# Use the keyword def to start a function. \n",
    "# Let's make a function that takes user input for the volume of a sphere and gives us the radius.\n",
    "# Keyword = def (for functions) --> name the function--> then paranethesis with desired arguements--> you can set a default \n",
    "\n",
    "def sphere_vol_calc(raidus=1):\n",
    "\n",
    "# What do we need to calculate the value of a sphere's volume? We should make varibale for those things.  \n",
    "    \n",
    "    pi=3.141592 #let's us avoid typing it out\n",
    "    \n",
    "    # Creates user input promt and converts it to a integer(python can do math with strings)\n",
    "    radius =int(input(\"Please input the radius of your sphere in cm. Use numeric values (example = 2)\"))\n",
    "    \n",
    "    # Calculates the volume of a sphere\n",
    "    circle_volume = (4/3)*pi*radius**3\n",
    "    \n",
    "    # Prints the output of the function as a string.\n",
    "    # We need to use an f string literal inputs the value from a variable as a string. \n",
    "    # We can't add strings and integers into a print statement.\n",
    "    print(f\"The volume of your sphere is {circle_volume} cm^3\")\n"
   ]
  },
  {
   "cell_type": "code",
   "execution_count": 5,
   "metadata": {},
   "outputs": [
    {
     "name": "stdout",
     "output_type": "stream",
     "text": [
      "Please input the radius of your sphere in cm. Use numeric values (example = 2)3\n",
      "The volume of your sphere is 113.097312 cm^3\n"
     ]
    }
   ],
   "source": [
    "# Let's run the function as see how it goes. \n",
    "sphere_vol_calc()"
   ]
  },
  {
   "cell_type": "code",
   "execution_count": 6,
   "metadata": {},
   "outputs": [],
   "source": [
    "# What if we want to store and graph that data\n",
    "# We can use the function from before and add to/change it a little. \n",
    "\n",
    "def sphere_vol_graph(raidus=1):\n",
    "    pi=3.141592\n",
    "    sphere_volumes=[]\n",
    "    count = 0\n",
    "    # We can give the user a promt. Use print statement\n",
    "    print(\"This program will take 10 data points.Please input the radius of your sphere(s) in cm. Use numeric values (example = 2)\")\n",
    "    # If we want multiple data points we will have to create a loop to grab multiple points\n",
    "    while count<10:\n",
    "        radius =int(input( \"Enter your value \"))\n",
    "        sphere_volume = (4/3)*pi*radius**3\n",
    "        # We want to store these data points so let's make a variable assingment with an empty list to store them in. \n",
    "        # We will then use the append method to save them to the list.\n",
    "        sphere_volumes.append(sphere_volume)\n",
    "        # We need some way to stop the loop.\n",
    "        count=count+1\n",
    "        # We can print out results.\n",
    "    print(f\"The program is done. Here are your sphere volumes{sphere_volumes}\")\n",
    "    #We want to save the list we created so we need to use the return keyword\n",
    "    return sphere_volumes\n",
    "\n",
    "\n",
    "\n"
   ]
  },
  {
   "cell_type": "code",
   "execution_count": 7,
   "metadata": {},
   "outputs": [
    {
     "name": "stdout",
     "output_type": "stream",
     "text": [
      "This program will take 10 data points.Please input the radius of your sphere(s) in cm. Use numeric values (example = 2)\n",
      "Enter your value 1\n",
      "Enter your value 2\n",
      "Enter your value 3\n",
      "Enter your value 4\n",
      "Enter your value 5\n",
      "Enter your value 1\n",
      "Enter your value 2\n",
      "Enter your value 3\n",
      "Enter your value 4\n",
      "Enter your value 5\n",
      "The program is done. Here are your sphere volumes[4.188789333333333, 33.510314666666666, 113.097312, 268.0825173333333, 523.5986666666666, 4.188789333333333, 33.510314666666666, 113.097312, 268.0825173333333, 523.5986666666666]\n"
     ]
    }
   ],
   "source": [
    "#Let's save the output of the function \"data\" as a new variable\n",
    "sphere_data= sphere_vol_graph()"
   ]
  },
  {
   "cell_type": "code",
   "execution_count": 11,
   "metadata": {},
   "outputs": [],
   "source": [
    "# For us to convert a list into a series or data frame and then graph it we need to \"import libraries\" into our python program.\n",
    "# This is done with the keyword import I will also assign them new names (shorthand)\n",
    "import pandas as pd\n",
    "from pandas import Series,DataFrame\n",
    "import numpy as np\n",
    "import matplotlib.pyplot as plt"
   ]
  },
  {
   "cell_type": "code",
   "execution_count": 15,
   "metadata": {},
   "outputs": [
    {
     "data": {
      "text/plain": [
       "Text(0.5, 1.0, 'Sphere Volume Data')"
      ]
     },
     "execution_count": 15,
     "metadata": {},
     "output_type": "execute_result"
    },
    {
     "data": {
      "image/png": "[encoded data removed]",
      "text/plain": [
       "<Figure size 432x288 with 1 Axes>"
      ]
     },
     "metadata": {
      "needs_background": "light"
     },
     "output_type": "display_data"
    }
   ],
   "source": [
    "# Now we can grpah that data \n",
    "# We will assigne the plot a variable name so we can call it quickly when we want to. \n",
    "fig1=plt.plot(sphere_data)\n",
    "# How to label y axis\n",
    "plt.ylabel(\"Volume of sphere (cm^3)\")\n",
    "# How to label X axis\n",
    "plt.xlabel(\"Sample Number (#)\")\n",
    "# How to give it a title\n",
    "plt.title(\"Sphere Volume Data\")"
   ]
  },
  {
   "cell_type": "code",
   "execution_count": 13,
   "metadata": {},
   "outputs": [
    {
     "data": {
      "text/plain": [
       "0      4.188789\n",
       "1     33.510315\n",
       "2    113.097312\n",
       "3    268.082517\n",
       "4    523.598667\n",
       "5      4.188789\n",
       "6     33.510315\n",
       "7    113.097312\n",
       "8    268.082517\n",
       "9    523.598667\n",
       "dtype: float64"
      ]
     },
     "execution_count": 13,
     "metadata": {},
     "output_type": "execute_result"
    }
   ],
   "source": [
    "# You could also convert the data into a series which gives you greater contorl over axes and labeling. \n",
    "spser=pd.Series(sphere_data)\n",
    "spser"
   ]
  },
  {
   "cell_type": "code",
   "execution_count": 14,
   "metadata": {},
   "outputs": [
    {
     "data": {
      "text/plain": [
       "Text(0.5, 0, 'Sample Number (#)')"
      ]
     },
     "execution_count": 14,
     "metadata": {},
     "output_type": "execute_result"
    },
    {
     "data": {
      "image/png": "[encoded data removed]",
      "text/plain": [
       "<Figure size 432x288 with 1 Axes>"
      ]
     },
     "metadata": {
      "needs_background": "light"
     },
     "output_type": "display_data"
    }
   ],
   "source": [
    "# Plot the series by inputing the series name inside the parenthesis. \n",
    "fig1=plt.plot(spser)\n",
    "plt.ylabel(\"Volume of sphere (cm^3)\")\n",
    "plt.xlabel(\"Sample Number (#)\")"
   ]
  }
 ],
 "metadata": {
  "kernelspec": {
   "display_name": "Python 3",
   "language": "python",
   "name": "python3"
  },
  "language_info": {
   "codemirror_mode": {
    "name": "ipython",
    "version": 3
   },
   "file_extension": ".py",
   "mimetype": "text/x-python",
   "name": "python",
   "nbconvert_exporter": "python",
   "pygments_lexer": "ipython3",
   "version": "3.8.3"
  }
 },
 "nbformat": 4,
 "nbformat_minor": 4
}
