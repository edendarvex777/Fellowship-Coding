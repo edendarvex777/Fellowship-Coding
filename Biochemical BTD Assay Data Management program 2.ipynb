{
 "cells": [
  {
   "cell_type": "code",
   "execution_count": null,
   "metadata": {},
   "outputs": [],
   "source": [
    "# The idea for this program is for ti to read in a given CSV file from the user and then graph the data\n",
    "# Then calculate the relevant metrics (mean median etc.)\n",
    "# Step 1 have python import relevant libraries and import the CSV\n",
    "#Step 1"
   ]
  },
  {
   "cell_type": "code",
   "execution_count": 7,
   "metadata": {},
   "outputs": [],
   "source": [
    "#Step 1\n",
    "import pandas as pd\n",
    "import matplotlib.pyplot as plt\n",
    "import numpy as np\n",
    "\n"
   ]
  },
  {
   "cell_type": "code",
   "execution_count": 41,
   "metadata": {},
   "outputs": [
    {
     "name": "stdout",
     "output_type": "stream",
     "text": [
      "                Results Unnamed: 1  Unnamed: 2  Unnamed: 3  Unnamed: 4  \\\n",
      "0   Actual Temperature:       21.8         NaN         NaN         NaN   \n",
      "1                   NaN        NaN         NaN         NaN         NaN   \n",
      "2                   NaN        NaN       1.000       2.000       3.000   \n",
      "3                   NaN          A       0.162       0.058       0.044   \n",
      "4                   NaN          B       0.073       0.070       0.072   \n",
      "5                   NaN          C       0.256       0.120       0.074   \n",
      "6                   NaN          D       0.081       0.074       0.072   \n",
      "7                   NaN          E       0.084       0.103       0.081   \n",
      "8                   NaN          F       0.120       0.114       0.100   \n",
      "9                   NaN          G       0.136       0.137       0.143   \n",
      "10                  NaN          H       0.049       0.049       0.050   \n",
      "\n",
      "    Unnamed: 5  Unnamed: 6  Unnamed: 7  Unnamed: 8  Unnamed: 9  Unnamed: 10  \\\n",
      "0          NaN         NaN         NaN         NaN         NaN          NaN   \n",
      "1          NaN         NaN         NaN         NaN         NaN          NaN   \n",
      "2        4.000       5.000       6.000       7.000       8.000        9.000   \n",
      "3        0.042       0.043       0.043       0.043       0.043        0.050   \n",
      "4        0.074       0.109       0.075       0.076       0.072        0.075   \n",
      "5        0.078       0.084       0.090       0.081       0.086        0.081   \n",
      "6        0.078       0.092       0.087       0.068       0.074        0.074   \n",
      "7        0.094       0.095       0.085       0.082       0.087        0.095   \n",
      "8        0.095       0.120       0.090       0.117       0.112        0.110   \n",
      "9        0.146       0.149       0.113       0.124       0.117        0.140   \n",
      "10       0.050       0.051       0.050       0.049       0.050        0.050   \n",
      "\n",
      "    Unnamed: 11  Unnamed: 12  Unnamed: 13  Unnamed: 14  \n",
      "0           NaN          NaN          NaN          NaN  \n",
      "1           NaN          NaN          NaN          NaN  \n",
      "2        10.000       11.000       12.000          NaN  \n",
      "3         0.088        0.059        0.049        546.0  \n",
      "4         0.093        0.043        0.047        546.0  \n",
      "5         0.190        0.043        0.047        546.0  \n",
      "6         0.074        0.044        0.046        546.0  \n",
      "7         0.082        0.044        0.104        546.0  \n",
      "8         0.276        0.045        0.047        546.0  \n",
      "9         0.166        0.047        0.048        546.0  \n",
      "10        0.050        0.050        0.052        546.0  \n"
     ]
    }
   ],
   "source": [
    "#Note: Need to save file as UTF-8 for it to work. File extenstion will be .csv instead of xlsx. \n",
    "#Note: to get correct path name for file press shift +right click then change all \\ to /\n",
    "data=pd.read_csv('C:/Users/RileyS/Desktop/SJR NBS Fellow/Projects/Biotinidase Assay/Data/BTD ABS data/PTD1utf.csv')\n",
    "df1=pd.DataFrame(data)\n",
    "print(df1)"
   ]
  },
  {
   "cell_type": "code",
   "execution_count": 49,
   "metadata": {},
   "outputs": [
    {
     "name": "stdout",
     "output_type": "stream",
     "text": [
      "   Unnamed: 2  Unnamed: 3  Unnamed: 4  Unnamed: 5  Unnamed: 6  Unnamed: 7  \\\n",
      "3       0.162       0.058       0.044       0.042       0.043       0.043   \n",
      "4       0.073       0.070       0.072       0.074       0.109       0.075   \n",
      "5       0.256       0.120       0.074       0.078       0.084       0.090   \n",
      "6       0.081       0.074       0.072       0.078       0.092       0.087   \n",
      "7       0.084       0.103       0.081       0.094       0.095       0.085   \n",
      "\n",
      "   Unnamed: 8  Unnamed: 9  Unnamed: 10  Unnamed: 11  Unnamed: 12  Unnamed: 13  \n",
      "3       0.043       0.043        0.050        0.088        0.059        0.049  \n",
      "4       0.076       0.072        0.075        0.093        0.043        0.047  \n",
      "5       0.081       0.086        0.081        0.190        0.043        0.047  \n",
      "6       0.068       0.074        0.074        0.074        0.044        0.046  \n",
      "7       0.082       0.087        0.095        0.082        0.044        0.104  \n"
     ]
    }
   ],
   "source": [
    "#delete unwanted rows\n",
    "df2=df1.drop(['Results','Unnamed: 1','Unnamed: 14'],axis=1, inplace=False)\n",
    "df3=df2.drop([0,1,2],axis=0,inplace=False)\n",
    "print(df3.head())"
   ]
  },
  {
   "cell_type": "code",
   "execution_count": 53,
   "metadata": {},
   "outputs": [
    {
     "name": "stdout",
     "output_type": "stream",
     "text": [
      "Index(['Unnamed: 2', 'Unnamed: 3', 'Unnamed: 4', 'Unnamed: 5', 'Unnamed: 6',\n",
      "       'Unnamed: 7', 'Unnamed: 8', 'Unnamed: 9', 'Unnamed: 10', 'Unnamed: 11',\n",
      "       'Unnamed: 12', 'Unnamed: 13'],\n",
      "      dtype='object')\n",
      "    Unnamed: 2  Unnamed: 3  Unnamed: 4  Unnamed: 5  Unnamed: 6  Unnamed: 7  \\\n",
      "3        0.162       0.058       0.044       0.042       0.043       0.043   \n",
      "4        0.073       0.070       0.072       0.074       0.109       0.075   \n",
      "5        0.256       0.120       0.074       0.078       0.084       0.090   \n",
      "6        0.081       0.074       0.072       0.078       0.092       0.087   \n",
      "7        0.084       0.103       0.081       0.094       0.095       0.085   \n",
      "8        0.120       0.114       0.100       0.095       0.120       0.090   \n",
      "9        0.136       0.137       0.143       0.146       0.149       0.113   \n",
      "10       0.049       0.049       0.050       0.050       0.051       0.050   \n",
      "\n",
      "    Unnamed: 8  Unnamed: 9  Unnamed: 10  Unnamed: 11  Unnamed: 12  Unnamed: 13  \n",
      "3        0.043       0.043        0.050        0.088        0.059        0.049  \n",
      "4        0.076       0.072        0.075        0.093        0.043        0.047  \n",
      "5        0.081       0.086        0.081        0.190        0.043        0.047  \n",
      "6        0.068       0.074        0.074        0.074        0.044        0.046  \n",
      "7        0.082       0.087        0.095        0.082        0.044        0.104  \n",
      "8        0.117       0.112        0.110        0.276        0.045        0.047  \n",
      "9        0.124       0.117        0.140        0.166        0.047        0.048  \n",
      "10       0.049       0.050        0.050        0.050        0.050        0.052  \n"
     ]
    }
   ],
   "source": [
    "print(df3.columns)\n",
    "dfg=df3.iloc[0:9]\n",
    "print(dataforgraph)"
   ]
  },
  {
   "cell_type": "code",
   "execution_count": 55,
   "metadata": {},
   "outputs": [
    {
     "name": "stdout",
     "output_type": "stream",
     "text": [
      "3     0.220\n",
      "4     0.143\n",
      "5     0.376\n",
      "6     0.155\n",
      "7     0.187\n",
      "8     0.234\n",
      "9     0.273\n",
      "10    0.098\n",
      "dtype: float64\n"
     ]
    }
   ],
   "source": [
    "df4=dfg\n",
    "print(df4)"
   ]
  },
  {
   "cell_type": "code",
   "execution_count": null,
   "metadata": {},
   "outputs": [],
   "source": []
  }
 ],
 "metadata": {
  "kernelspec": {
   "display_name": "Python 3",
   "language": "python",
   "name": "python3"
  },
  "language_info": {
   "codemirror_mode": {
    "name": "ipython",
    "version": 3
   },
   "file_extension": ".py",
   "mimetype": "text/x-python",
   "name": "python",
   "nbconvert_exporter": "python",
   "pygments_lexer": "ipython3",
   "version": "3.8.3"
  }
 },
 "nbformat": 4,
 "nbformat_minor": 4
}
