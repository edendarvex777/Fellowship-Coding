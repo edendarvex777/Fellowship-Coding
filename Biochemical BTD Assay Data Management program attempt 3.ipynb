{
 "cells": [
  {
   "cell_type": "code",
   "execution_count": 1,
   "metadata": {},
   "outputs": [],
   "source": [
    "# The idea for this program is for ti to read in a given CSV file from the user and then graph the data\n",
    "# Then calculate the relevant metrics (mean median etc.)\n",
    "# Step 1 have python import relevant libraries and import the CSV\n",
    "#Step 1"
   ]
  },
  {
   "cell_type": "code",
   "execution_count": 1,
   "metadata": {},
   "outputs": [],
   "source": [
    "#Step 1\n",
    "import pandas as pd\n",
    "import matplotlib.pyplot as plt\n",
    "import numpy as np\n",
    "import seaborn as sns\n",
    "\n"
   ]
  },
  {
   "cell_type": "code",
   "execution_count": 2,
   "metadata": {},
   "outputs": [
    {
     "name": "stdout",
     "output_type": "stream",
     "text": [
      "               Results Unnamed: 1  Unnamed: 2\n",
      "0  Actual Temperature:       22.2         NaN\n",
      "1                  NaN        NaN         NaN\n",
      "2                  NaN       Well     546.000\n",
      "3                  NaN         A1       0.170\n",
      "4                  NaN         A2       0.059\n",
      "                 1      PKUSER 20210907  Unnamed: 3  \\\n",
      "0  Biotinidase-PRH  2124620005      A01         NaN   \n",
      "1  Biotinidase-PRH  2124620022      A02         NaN   \n",
      "2  Biotinidase-PRH  2124620025      A03         NaN   \n",
      "3  Biotinidase-PRH  2124620031      A04         NaN   \n",
      "4  Biotinidase-PRH  2124620042      A05         NaN   \n",
      "\n",
      "       Copy columns A, B and C of DBS worklist and   \\\n",
      "0  PASTE VALUES into colums A, B and C of this page   \n",
      "1                                               NaN   \n",
      "2                                               NaN   \n",
      "3                                               NaN   \n",
      "4                                               NaN   \n",
      "\n",
      "                               Unnamed: 5           Unnamed: 6   Unnamed: 7  \\\n",
      "0                                     NaN                  NaN          NaN   \n",
      "1                                     NaN  DBS worklist name:   PRB 247 246   \n",
      "2                                     NaN                  NaN          NaN   \n",
      "3                             Plate name:                  NaN  PRB 247 246   \n",
      "4  CLEAR CONTENTS ONLY FOR THESE 2 FIELDS                  NaN          NaN   \n",
      "\n",
      "   Unnamed: 8  Unnamed: 9  Unnamed: 10  Unnamed: 11  Unnamed: 12  Unnamed: 13  \\\n",
      "0         NaN         NaN          NaN          NaN          NaN          NaN   \n",
      "1         NaN         NaN          NaN          NaN          NaN          NaN   \n",
      "2         NaN         NaN          NaN          NaN          NaN          NaN   \n",
      "3         NaN         NaN          NaN          NaN          NaN          NaN   \n",
      "4         NaN         NaN          NaN          NaN          NaN          NaN   \n",
      "\n",
      "   Unnamed: 14  Unnamed: 15  Unnamed: 16  \n",
      "0          NaN          NaN          NaN  \n",
      "1          NaN          NaN          NaN  \n",
      "2          NaN          NaN          NaN  \n",
      "3          NaN          NaN          NaN  \n",
      "4          NaN          NaN          NaN  \n"
     ]
    }
   ],
   "source": [
    "#Note: Need to save file as UTF-8 for it to work. File extenstion will be .csv instead of xlsx. \n",
    "#Note: to get correct path name for file press shift +right click then change all \\ to /\n",
    "\n",
    "biodata=pd.read_csv('C:/Users/RileyS/Desktop/SJR NBS Fellow/Projects/Biotinidase Assay/Data/BTD ABS data/PTD2.csv')\n",
    "bio_samp_num=pd.read_csv('C:/Users/RileyS/Desktop/SJR NBS Fellow/Projects/Data Managment/BTDsampleexample.csv')\n",
    "\n",
    "biodf1=pd.DataFrame(biodata)\n",
    "bsndf1=pd.DataFrame(bio_samp_num)\n",
    "\n",
    "print(biodf1.head())\n",
    "print(bsndf1.head())"
   ]
  },
  {
   "cell_type": "code",
   "execution_count": 5,
   "metadata": {},
   "outputs": [
    {
     "name": "stdout",
     "output_type": "stream",
     "text": [
      "       PKUSER Absorbance\n",
      "0  2124620005        NaN\n",
      "1  2124620022        NaN\n",
      "2  2124620025          0\n",
      "3  2124620031       0.17\n",
      "4  2124620042      0.059\n"
     ]
    }
   ],
   "source": [
    "biodf1['Absorbance']=biodf1['Unnamed: 2']\n",
    "dfmerge=pd.DataFrame([bsndf1.PKUSER,biodf1.Absorbance])\n",
    "dftrans=dfmerge.transpose()\n",
    "dftrans['Absorbance'][2]=0\n",
    "print(dftrans.head())\n"
   ]
  },
  {
   "cell_type": "code",
   "execution_count": 7,
   "metadata": {},
   "outputs": [
    {
     "data": {
      "image/png": "[encoded data removed]",
      "text/plain": [
       "<Figure size 432x288 with 1 Axes>"
      ]
     },
     "metadata": {
      "needs_background": "light"
     },
     "output_type": "display_data"
    }
   ],
   "source": [
    "dftrans.reset_index().plot(kind='scatter',x='index', y='Absorbance')\n",
    "plt.xlabel('sample number (#)')\n",
    "plt.ylabel('Absorbance(A.U.)')\n",
    "plt.show()"
   ]
  },
  {
   "cell_type": "code",
   "execution_count": 9,
   "metadata": {},
   "outputs": [
    {
     "data": {
      "text/plain": [
       "<seaborn.axisgrid.FacetGrid at 0x1fb02b43250>"
      ]
     },
     "execution_count": 9,
     "metadata": {},
     "output_type": "execute_result"
    },
    {
     "data": {
      "image/png": "[encoded data removed]",
      "text/plain": [
       "<Figure size 454.875x360 with 1 Axes>"
      ]
     },
     "metadata": {
      "needs_background": "light"
     },
     "output_type": "display_data"
    }
   ],
   "source": [
    "sns.relplot(x=range(1,100),y='Absorbance',data=dftrans,kind='scatter',hue='Absorbance')"
   ]
  },
  {
   "cell_type": "code",
   "execution_count": 10,
   "metadata": {},
   "outputs": [],
   "source": [
    "# function sets a cutt of critera and counts the number of samples that fail the cut of critera. \n",
    "\n",
    "def critical_samples(df):\n",
    "    crit_sample=0\n",
    "    crit_sample_id=[]\n",
    "    for sample in df:\n",
    "        if sample<0.070:\n",
    "            crit_sample=crit_sample+1\n",
    "        else:\n",
    "            pass \n",
    "    return crit_sample\n",
    "    \n",
    "    "
   ]
  },
  {
   "cell_type": "code",
   "execution_count": 11,
   "metadata": {},
   "outputs": [
    {
     "data": {
      "text/plain": [
       "35"
      ]
     },
     "execution_count": 11,
     "metadata": {},
     "output_type": "execute_result"
    }
   ],
   "source": [
    "critical_samples(dftrans['Absorbance'])"
   ]
  },
  {
   "cell_type": "code",
   "execution_count": 12,
   "metadata": {},
   "outputs": [],
   "source": [
    "# Function that take samples that fail cut of criteria and puts them in a list with text \"These samples need to be retested.\"\n",
    "def critical_samples2(df):\n",
    "    crit_sample_id=[]\n",
    "    for absorbance,pkuser in df:\n",
    "        if absorbance<0.070:\n",
    "            crit_sample_id.append(pkuser)\n",
    "        else:\n",
    "            pass \n",
    "    return crit_sample_id"
   ]
  },
  {
   "cell_type": "code",
   "execution_count": 13,
   "metadata": {},
   "outputs": [
    {
     "name": "stdout",
     "output_type": "stream",
     "text": [
      "['2124620005', '2124620022', '2124620025', '2124620031', '2124620042', '2124620046', '2124620068', '2124620074', '2124620076', '2124620078', '2124620102', '2124620103', '2124620123', '2124620137', '2124620149', '2124720014', '2124720035', '2124720109', '2124720112', '2124720113', '2124720149', '2124720153', '2124720192', '2124720195', '2124720196', '2124720197', '2124720198', '2124720215', '2124720234', '2124720245', '2124720249', '2124720256', '2124720257', '2124720262', '2124720264', '2124720274', '2124720295', '2124720297', '2124720298', '2124720303', '2124720322', '2124720323', '2124720328', '2124720338', '2124720339', '2124720357', '2124720374', '2124610047', '2124610047', '2124610047', '2124610047', '2124610047', '2124610047', '2124520139', '2124520139', '2124520139', '2124520139', '2124520139', '2124510195', '2124510195', '2124510195', '2124510195', '2124510195', '2124510195', 'POS', 'NEG', nan, nan, nan, nan, nan, nan, nan, nan, nan, nan, nan, nan, nan, nan, nan, nan, nan, nan, nan, nan, nan, nan, nan, nan, nan, nan, nan, nan, nan, nan, nan, nan, nan]\n",
      "[nan, nan, 0, 0.17, 0.059000000000000004, 0.045, 0.043, 0.043, 0.043, 0.044000000000000004, 0.045, 0.043, 0.07400000000000001, 0.054000000000000006, 0.049, 0.07200000000000001, 0.07, 0.076, 0.075, 0.14300000000000002, 0.075, 0.078, 0.081, 0.07400000000000001, 0.07, 0.044000000000000004, 0.047, 0.084, 0.09300000000000001, 0.075, 0.083, 0.085, 0.08800000000000001, 0.08, 0.086, 0.08, 0.085, 0.044000000000000004, 0.047, 0.08, 0.07400000000000001, 0.07200000000000001, 0.077, 0.098, 0.087, 0.069, 0.07400000000000001, 0.07400000000000001, 0.07400000000000001, 0.045, 0.046, 0.10400000000000001, 0.131, 0.085, 0.094, 0.158, 0.08800000000000001, 0.081, 0.086, 0.08900000000000001, 0.079, 0.044000000000000004, 0.105, 0.12, 0.113, 0.107, 0.095, 0.11199999999999999, 0.08900000000000001, 0.115, 0.109, 0.106, 0.256, 0.045, 0.047, 0.136, 0.149, 0.14300000000000002, 0.145, 0.14800000000000002, 0.113, 0.129, 0.132, 0.13699999999999998, 0.135, 0.047, 0.051, 0.049, 0.049, 0.05, 0.05, 0.051, 0.05, 0.049, 0.05, 0.05, 0.05, 0.05, 0.055999999999999994]\n"
     ]
    }
   ],
   "source": [
    "list1=dftrans['PKUSER'].tolist()\n",
    "list2=dftrans['Absorbance'].tolist()\n",
    "print(list1)\n",
    "print(list2)"
   ]
  },
  {
   "cell_type": "code",
   "execution_count": 14,
   "metadata": {},
   "outputs": [
    {
     "name": "stdout",
     "output_type": "stream",
     "text": [
      "{'2124620005': nan, '2124620022': nan, '2124620025': 0, '2124620031': 0.17, '2124620042': 0.059000000000000004, '2124620046': 0.045, '2124620068': 0.043, '2124620074': 0.043, '2124620076': 0.043, '2124620078': 0.044000000000000004, '2124620102': 0.045, '2124620103': 0.043, '2124620123': 0.07400000000000001, '2124620137': 0.054000000000000006, '2124620149': 0.049, '2124720014': 0.07200000000000001, '2124720035': 0.07, '2124720109': 0.076, '2124720112': 0.075, '2124720113': 0.14300000000000002, '2124720149': 0.075, '2124720153': 0.078, '2124720192': 0.081, '2124720195': 0.07400000000000001, '2124720196': 0.07, '2124720197': 0.044000000000000004, '2124720198': 0.047, '2124720215': 0.084, '2124720234': 0.09300000000000001, '2124720245': 0.075, '2124720249': 0.083, '2124720256': 0.085, '2124720257': 0.08800000000000001, '2124720262': 0.08, '2124720264': 0.086, '2124720274': 0.08, '2124720295': 0.085, '2124720297': 0.044000000000000004, '2124720298': 0.047, '2124720303': 0.08, '2124720322': 0.07400000000000001, '2124720323': 0.07200000000000001, '2124720328': 0.077, '2124720338': 0.098, '2124720339': 0.087, '2124720357': 0.069, '2124720374': 0.07400000000000001, '2124610047': 0.131, '2124520139': 0.081, '2124510195': 0.12, 'POS': 0.113, 'NEG': 0.107, nan: 0.095, nan: 0.11199999999999999, nan: 0.08900000000000001, nan: 0.115, nan: 0.109, nan: 0.106, nan: 0.256, nan: 0.045, nan: 0.047, nan: 0.136, nan: 0.149, nan: 0.14300000000000002, nan: 0.145, nan: 0.14800000000000002, nan: 0.113, nan: 0.129, nan: 0.132, nan: 0.13699999999999998, nan: 0.135, nan: 0.047, nan: 0.051, nan: 0.049, nan: 0.049, nan: 0.05, nan: 0.05, nan: 0.051, nan: 0.05, nan: 0.049, nan: 0.05, nan: 0.05, nan: 0.05, nan: 0.05, nan: 0.055999999999999994}\n"
     ]
    }
   ],
   "source": [
    "dict1=dict(zip(list1,list2))\n",
    "print(dict1)"
   ]
  },
  {
   "cell_type": "code",
   "execution_count": 15,
   "metadata": {},
   "outputs": [
    {
     "name": "stdout",
     "output_type": "stream",
     "text": [
      "2124620025 coressponds to  0\n",
      "2124620042 coressponds to  0.059000000000000004\n",
      "2124620046 coressponds to  0.045\n",
      "2124620068 coressponds to  0.043\n",
      "2124620074 coressponds to  0.043\n",
      "2124620076 coressponds to  0.043\n",
      "2124620078 coressponds to  0.044000000000000004\n",
      "2124620102 coressponds to  0.045\n",
      "2124620103 coressponds to  0.043\n",
      "2124620137 coressponds to  0.054000000000000006\n",
      "2124620149 coressponds to  0.049\n",
      "2124720197 coressponds to  0.044000000000000004\n",
      "2124720198 coressponds to  0.047\n",
      "2124720297 coressponds to  0.044000000000000004\n",
      "2124720298 coressponds to  0.047\n",
      "2124720357 coressponds to  0.069\n",
      "nan coressponds to  0.045\n",
      "nan coressponds to  0.047\n",
      "nan coressponds to  0.047\n",
      "nan coressponds to  0.051\n",
      "nan coressponds to  0.049\n",
      "nan coressponds to  0.049\n",
      "nan coressponds to  0.05\n",
      "nan coressponds to  0.05\n",
      "nan coressponds to  0.051\n",
      "nan coressponds to  0.05\n",
      "nan coressponds to  0.049\n",
      "nan coressponds to  0.05\n",
      "nan coressponds to  0.05\n",
      "nan coressponds to  0.05\n",
      "nan coressponds to  0.05\n",
      "nan coressponds to  0.055999999999999994\n"
     ]
    }
   ],
   "source": [
    "for key in dict1:\n",
    "    if dict1[key]<0.070:\n",
    "        print(key,'coressponds to ',dict1[key])\n",
    "    else:\n",
    "        pass"
   ]
  },
  {
   "cell_type": "code",
   "execution_count": 17,
   "metadata": {},
   "outputs": [],
   "source": [
    "def retest_samples(dic):\n",
    "    crit_sample_id=[]\n",
    "    for key in dic:\n",
    "        if dic[key]<0.070:\n",
    "            print(key,'coressponds to ',dict1[key])\n",
    "        else:\n",
    "            pass\n",
    "    return crit_sample_id"
   ]
  },
  {
   "cell_type": "code",
   "execution_count": 18,
   "metadata": {},
   "outputs": [
    {
     "name": "stdout",
     "output_type": "stream",
     "text": [
      "2124620025 coressponds to  0\n",
      "2124620042 coressponds to  0.059000000000000004\n",
      "2124620046 coressponds to  0.045\n",
      "2124620068 coressponds to  0.043\n",
      "2124620074 coressponds to  0.043\n",
      "2124620076 coressponds to  0.043\n",
      "2124620078 coressponds to  0.044000000000000004\n",
      "2124620102 coressponds to  0.045\n",
      "2124620103 coressponds to  0.043\n",
      "2124620137 coressponds to  0.054000000000000006\n",
      "2124620149 coressponds to  0.049\n",
      "2124720197 coressponds to  0.044000000000000004\n",
      "2124720198 coressponds to  0.047\n",
      "2124720297 coressponds to  0.044000000000000004\n",
      "2124720298 coressponds to  0.047\n",
      "2124720357 coressponds to  0.069\n",
      "nan coressponds to  0.045\n",
      "nan coressponds to  0.047\n",
      "nan coressponds to  0.047\n",
      "nan coressponds to  0.051\n",
      "nan coressponds to  0.049\n",
      "nan coressponds to  0.049\n",
      "nan coressponds to  0.05\n",
      "nan coressponds to  0.05\n",
      "nan coressponds to  0.051\n",
      "nan coressponds to  0.05\n",
      "nan coressponds to  0.049\n",
      "nan coressponds to  0.05\n",
      "nan coressponds to  0.05\n",
      "nan coressponds to  0.05\n",
      "nan coressponds to  0.05\n",
      "nan coressponds to  0.055999999999999994\n"
     ]
    },
    {
     "data": {
      "text/plain": [
       "[]"
      ]
     },
     "execution_count": 18,
     "metadata": {},
     "output_type": "execute_result"
    }
   ],
   "source": [
    "retest_samples(dict1)"
   ]
  },
  {
   "cell_type": "code",
   "execution_count": 22,
   "metadata": {},
   "outputs": [],
   "source": [
    "def retest_samples2(dic):\n",
    "    crit_sample_id=[]\n",
    "    for key,value in dic.items():\n",
    "        if value<0.070:\n",
    "            print(key,value)\n",
    "        else:\n",
    "            pass\n",
    "    return crit_sample_id"
   ]
  },
  {
   "cell_type": "code",
   "execution_count": 23,
   "metadata": {},
   "outputs": [
    {
     "name": "stdout",
     "output_type": "stream",
     "text": [
      "2124620025 0\n",
      "2124620042 0.059000000000000004\n",
      "2124620046 0.045\n",
      "2124620068 0.043\n",
      "2124620074 0.043\n",
      "2124620076 0.043\n",
      "2124620078 0.044000000000000004\n",
      "2124620102 0.045\n",
      "2124620103 0.043\n",
      "2124620137 0.054000000000000006\n",
      "2124620149 0.049\n",
      "2124720197 0.044000000000000004\n",
      "2124720198 0.047\n",
      "2124720297 0.044000000000000004\n",
      "2124720298 0.047\n",
      "2124720357 0.069\n",
      "nan 0.045\n",
      "nan 0.047\n",
      "nan 0.047\n",
      "nan 0.051\n",
      "nan 0.049\n",
      "nan 0.049\n",
      "nan 0.05\n",
      "nan 0.05\n",
      "nan 0.051\n",
      "nan 0.05\n",
      "nan 0.049\n",
      "nan 0.05\n",
      "nan 0.05\n",
      "nan 0.05\n",
      "nan 0.05\n",
      "nan 0.055999999999999994\n"
     ]
    },
    {
     "data": {
      "text/plain": [
       "[]"
      ]
     },
     "execution_count": 23,
     "metadata": {},
     "output_type": "execute_result"
    }
   ],
   "source": [
    "retest_samples2(dict1)"
   ]
  },
  {
   "cell_type": "code",
   "execution_count": null,
   "metadata": {},
   "outputs": [],
   "source": []
  }
 ],
 "metadata": {
  "kernelspec": {
   "display_name": "Python 3",
   "language": "python",
   "name": "python3"
  },
  "language_info": {
   "codemirror_mode": {
    "name": "ipython",
    "version": 3
   },
   "file_extension": ".py",
   "mimetype": "text/x-python",
   "name": "python",
   "nbconvert_exporter": "python",
   "pygments_lexer": "ipython3",
   "version": "3.8.3"
  }
 },
 "nbformat": 4,
 "nbformat_minor": 4
}
